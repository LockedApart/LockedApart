{
  "nbformat": 4,
  "nbformat_minor": 0,
  "metadata": {
    "colab": {
      "provenance": []
    },
    "kernelspec": {
      "name": "python3",
      "display_name": "Python 3"
    },
    "language_info": {
      "name": "python"
    }
  },
  "cells": [
    {
      "cell_type": "code",
      "source": [
        "!pip install scikit-learn==1.3.2"
      ],
      "metadata": {
        "colab": {
          "base_uri": "https://localhost:8080/"
        },
        "id": "gVWx9wT3HPjq",
        "outputId": "ec1b64d8-e3be-4f50-f446-c7e55f46e958"
      },
      "execution_count": 1,
      "outputs": [
        {
          "output_type": "stream",
          "name": "stdout",
          "text": [
            "Requirement already satisfied: scikit-learn==1.3.2 in /usr/local/lib/python3.10/dist-packages (1.3.2)\n",
            "Requirement already satisfied: numpy<2.0,>=1.17.3 in /usr/local/lib/python3.10/dist-packages (from scikit-learn==1.3.2) (1.26.4)\n",
            "Requirement already satisfied: scipy>=1.5.0 in /usr/local/lib/python3.10/dist-packages (from scikit-learn==1.3.2) (1.13.1)\n",
            "Requirement already satisfied: joblib>=1.1.1 in /usr/local/lib/python3.10/dist-packages (from scikit-learn==1.3.2) (1.4.2)\n",
            "Requirement already satisfied: threadpoolctl>=2.0.0 in /usr/local/lib/python3.10/dist-packages (from scikit-learn==1.3.2) (3.5.0)\n"
          ]
        }
      ]
    },
    {
      "cell_type": "code",
      "execution_count": 2,
      "metadata": {
        "id": "-ZyTUUBV-qIU"
      },
      "outputs": [],
      "source": [
        "import json\n",
        "from pathlib import Path\n",
        "\n",
        "import numpy as np\n",
        "import pandas as pd\n",
        "\n",
        "from sklearn.ensemble import RandomForestClassifier\n",
        "from sklearn.metrics import accuracy_score\n",
        "from sklearn.model_selection import KFold\n"
      ]
    },
    {
      "cell_type": "code",
      "source": [
        "!unzip traces.zip"
      ],
      "metadata": {
        "colab": {
          "base_uri": "https://localhost:8080/"
        },
        "id": "yKTCV3fU-5Ly",
        "outputId": "450d330e-8332-4bbb-b902-c8c566a4a238"
      },
      "execution_count": 3,
      "outputs": [
        {
          "output_type": "stream",
          "name": "stdout",
          "text": [
            "Archive:  traces.zip\n",
            "  inflating: drawn_apart_gen10_brave.csv  \n",
            "  inflating: drawn_apart_gen10_chrome.csv  \n",
            "  inflating: locked_apart_gen10_brave.csv  \n",
            "  inflating: locked_apart_gen10_chrome.csv  \n"
          ]
        }
      ]
    },
    {
      "cell_type": "code",
      "source": [
        "CSVS = ['drawn_apart_gen10_brave.csv', 'drawn_apart_gen10_chrome.csv', 'locked_apart_gen10_brave.csv', 'locked_apart_gen10_chrome.csv']"
      ],
      "metadata": {
        "id": "n_RIFq_-_fMc"
      },
      "execution_count": 4,
      "outputs": []
    },
    {
      "cell_type": "code",
      "source": [
        "def main_for_df(df):\n",
        "    print(f'Median collection time: {df[\"time_took\"].median()} ms')\n",
        "    X, y = get_X_y(df)\n",
        "    train_and_evaluate(X, y)\n",
        "\n",
        "\n",
        "def get_X_y(df: pd.DataFrame):\n",
        "    X = df['trace'].apply(lambda x: json.loads(x))\n",
        "    X = pd.DataFrame(X.tolist())\n",
        "\n",
        "    X = X.iloc[:, :-1]\n",
        "    y = df['machine_id']\n",
        "\n",
        "    return X, y\n",
        "\n",
        "\n",
        "def train_and_evaluate(X: pd.DataFrame, y: pd.Series):\n",
        "    kf = KFold(n_splits=5, shuffle=True, random_state=42)\n",
        "\n",
        "    accuracies = []\n",
        "    for train_index, test_index in kf.split(X):\n",
        "        X_train, X_test = X.iloc[train_index], X.iloc[test_index]\n",
        "        y_train, y_test = y.iloc[train_index], y.iloc[test_index]\n",
        "\n",
        "        clf = RandomForestClassifier(n_estimators=600, random_state=42, n_jobs=4)\n",
        "        clf.fit(X_train, y_train)\n",
        "\n",
        "        y_pred = clf.predict(X_test)\n",
        "        accuracy = accuracy_score(y_test, y_pred)\n",
        "        accuracies.append(accuracy)\n",
        "\n",
        "    print(f'Accuracy: {np.mean(accuracies)} ± {np.std(accuracies)}')"
      ],
      "metadata": {
        "id": "CBnIaSyf-wIG"
      },
      "execution_count": 5,
      "outputs": []
    },
    {
      "cell_type": "code",
      "source": [
        "for csv_name in CSVS:\n",
        "  print(f'Results for {Path(csv_name).stem}:')\n",
        "  df = pd.read_csv(csv_name)\n",
        "  main_for_df(df)"
      ],
      "metadata": {
        "colab": {
          "base_uri": "https://localhost:8080/"
        },
        "id": "rjtuUdMD_bwb",
        "outputId": "e06aa3ea-09ea-458f-ee26-45dfc9ea3efc"
      },
      "execution_count": 6,
      "outputs": [
        {
          "output_type": "stream",
          "name": "stdout",
          "text": [
            "Results for drawn_apart_gen10_brave:\n",
            "Median collection time: 1509.3999999277294 ms\n",
            "Accuracy: 0.49466666666666664 ± 0.013359234102390326\n",
            "Results for drawn_apart_gen10_chrome:\n",
            "Median collection time: 1505.5999999977648 ms\n",
            "Accuracy: 0.4064444444444445 ± 0.008955307413159945\n",
            "Results for locked_apart_gen10_brave:\n",
            "Median collection time: 92.19999999925494 ms\n",
            "Accuracy: 0.592 ± 0.012240390536818163\n",
            "Results for locked_apart_gen10_chrome:\n",
            "Median collection time: 92.10000000149012 ms\n",
            "Accuracy: 0.6133333333333334 ± 0.01572918966149903\n"
          ]
        }
      ]
    },
    {
      "cell_type": "code",
      "source": [],
      "metadata": {
        "id": "kjsGLFSzIhLB"
      },
      "execution_count": null,
      "outputs": []
    }
  ]
}